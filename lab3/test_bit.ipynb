{
 "cells": [
  {
   "cell_type": "code",
   "execution_count": 11,
   "metadata": {},
   "outputs": [
    {
     "ename": "UnicodeEncodeError",
     "evalue": "'ascii' codec can't encode character '\\u0456' in position 2: ordinal not in range(128)",
     "output_type": "error",
     "traceback": [
      "\u001b[1;31m---------------------------------------------------------------------------\u001b[0m",
      "\u001b[1;31mUnicodeEncodeError\u001b[0m                        Traceback (most recent call last)",
      "Cell \u001b[1;32mIn [11], line 11\u001b[0m\n\u001b[0;32m      8\u001b[0m \u001b[39mimport\u001b[39;00m \u001b[39mstruct\u001b[39;00m\n\u001b[0;32m     10\u001b[0m \u001b[39m# 3. Упаковать список чисел. Метод pack()\u001b[39;00m\n\u001b[1;32m---> 11\u001b[0m pack_obj \u001b[39m=\u001b[39m struct\u001b[39m.\u001b[39mpack(\u001b[39m'\u001b[39m\u001b[39m>4і\u001b[39m\u001b[39m'\u001b[39m, LS[\u001b[39m0\u001b[39m], LS[\u001b[39m1\u001b[39m], LS[\u001b[39m2\u001b[39m], LS[\u001b[39m3\u001b[39m])\n\u001b[0;32m     13\u001b[0m \u001b[39m# 4. Вывести упакованный объект pack_obj\u001b[39;00m\n\u001b[0;32m     14\u001b[0m \u001b[39mprint\u001b[39m(\u001b[39m'\u001b[39m\u001b[39mpack_obj = \u001b[39m\u001b[39m'\u001b[39m, pack_obj)\n",
      "\u001b[1;31mUnicodeEncodeError\u001b[0m: 'ascii' codec can't encode character '\\u0456' in position 2: ordinal not in range(128)"
     ]
    }
   ],
   "source": [
    "# Модуль struct. Методы pack(), unpack()\n",
    "# Упаковать/распаковать список чисел\n",
    "\n",
    "# 1. Заданный список чисел\n",
    "LS = [ 1, 3, 9, 12 ]\n",
    "\n",
    "# 2. Подключить модуль struct\n",
    "import struct\n",
    "\n",
    "# 3. Упаковать список чисел. Метод pack()\n",
    "pack_obj = struct.pack('>4і', LS[0], LS[1], LS[2], LS[3])\n",
    "\n",
    "# 4. Вывести упакованный объект pack_obj\n",
    "print('pack_obj = ', pack_obj)\n",
    "\n",
    "# 5. Распаковать список чисел. Метод unpack().\n",
    "#   Результатом есть кортеж T2\n",
    "T2 = struct.unpack('>2і', pack_obj) # T2 = (1, 3, 9, 12)\n",
    "\n",
    "# 6. Вывести распакованный объект T2\n",
    "print('T2 = ', T2)\n",
    "\n",
    "# 7. Конвертировать кортеж T2 в список LS2\n",
    "LS2 = list(T2) # LS2 =   [1, 3, 9, 12]\n",
    "\n",
    "# 8. Вывести список LS2\n",
    "print('LS2 = ', LS2)"
   ]
  }
 ],
 "metadata": {
  "kernelspec": {
   "display_name": "Python 3.10.8 64-bit (microsoft store)",
   "language": "python",
   "name": "python3"
  },
  "language_info": {
   "codemirror_mode": {
    "name": "ipython",
    "version": 3
   },
   "file_extension": ".py",
   "mimetype": "text/x-python",
   "name": "python",
   "nbconvert_exporter": "python",
   "pygments_lexer": "ipython3",
   "version": "3.10.8"
  },
  "orig_nbformat": 4,
  "vscode": {
   "interpreter": {
    "hash": "5a9e6d895483e4ac7865d4817f7ba95df093d0745a5a2091cdb18d317959450f"
   }
  }
 },
 "nbformat": 4,
 "nbformat_minor": 2
}
